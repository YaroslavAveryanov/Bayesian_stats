{
 "cells": [
  {
   "cell_type": "code",
   "execution_count": 2,
   "metadata": {
    "collapsed": false
   },
   "outputs": [],
   "source": [
    "from mpl_toolkits.mplot3d import Axes3D\n",
    "import matplotlib.pyplot as plt\n",
    "import numpy as np\n",
    "from matplotlib import cm\n",
    "from matplotlib.ticker import LinearLocator, FormatStrFormatter\n",
    "\n",
    "fig = plt.figure()\n",
    "ax = fig.gca(projection='3d')\n",
    "\n",
    "x = 20\n",
    "t = np.linspace(0, np.pi/2, num=x)\n",
    "p = np.linspace(0,2*np.pi, num=x)\n",
    "[T,P] = np.meshgrid(t,p)\n",
    "\n",
    "X = np.sqrt(3) * np.cos(P) * np.sin(T)\n",
    "Y = np.sqrt(2) * np.sin(T) * np.sin(P)\n",
    "Z = np.cos(T)\n",
    "\n"
   ]
  },
  {
   "cell_type": "code",
   "execution_count": 39,
   "metadata": {
    "collapsed": false
   },
   "outputs": [],
   "source": [
    "from mpl_toolkits.mplot3d import Axes3D\n",
    "import matplotlib.pyplot as plt\n",
    "import numpy as np\n",
    "\n",
    "def right_calculation(n):\n",
    "    X, Y, Z = [], [], []\n",
    "    for i in range(n):\n",
    "        theta = np.random.uniform(0, np.pi/2)\n",
    "        phi = np.random.uniform(0, 2*np.pi)\n",
    "        gamma = np.random.uniform(0, np.sqrt(3))\n",
    "        Q = np.sqrt((2*np.sin(theta)*np.sin(theta)*np.sin(phi)*np.sin(phi) + 3*np.sin(theta)*np.sin(theta)*np.sin(phi)*np.sin(phi))*(2*np.sin(phi)*np.sin(phi)\n",
    "        *np.cos(theta)*np.cos(theta) + 3*np.cos(theta)*np.cos(theta)*np.cos(phi)*np.cos(phi) + np.sin(theta)*np.sin(theta)) - np.sin(theta)*np.sin(theta)*np.sin(phi)*np.sin(phi)*np.cos(theta)*np.cos(theta)*np.cos(phi)*np.cos(phi))\n",
    "        if (gamma <= Q):\n",
    "            np.append(X, np.sqrt(3) * np.cos(phi) * np.sin(theta))\n",
    "            np.append(Y, np.sqrt(3) * np.cos(phi) * np.sin(theta))\n",
    "            np.append(Z, np.cos(theta))\n",
    "    fig = plt.figure()\n",
    "    ax = fig.add_subplot(111, projection='3d')\n",
    "    surf = ax.plot_surface(X, Y, Z, rstride=1, cstride=1, cmap=cm.coolwarm,\n",
    "                       linewidth=0, antialiased=False)\n",
    "    ax.set_zlim(-1.01, 1.01)\n",
    "\n",
    "    ax.zaxis.set_major_locator(LinearLocator(10))\n",
    "    ax.zaxis.set_major_formatter(FormatStrFormatter('%.02f'))\n",
    "\n",
    "    fig.colorbar(surf, shrink=0.5, aspect=5)\n",
    "\n",
    "    plt.show()        \n",
    "    \n",
    "    "
   ]
  },
  {
   "cell_type": "code",
   "execution_count": 11,
   "metadata": {
    "collapsed": false
   },
   "outputs": [],
   "source": [
    "from mpl_toolkits.mplot3d import Axes3D\n",
    "import matplotlib.pyplot as plt\n",
    "import numpy as np\n",
    "\n",
    "\n",
    "def right_calculation(n):\n",
    "    fig1 = plt.figure()\n",
    "    ax1 = fig1.add_subplot(111, projection='3d')\n",
    "    fig2 = plt.figure()\n",
    "    ax2 = fig2.add_subplot(111, projection='3d')\n",
    "    X, Y, Z = [], [], []\n",
    "    for i in range(n):\n",
    "        theta = np.random.uniform(0, np.pi/2)\n",
    "        phi = np.random.uniform(0, 2*np.pi)\n",
    "        gamma = np.random.uniform(0, np.sqrt(3))\n",
    "        Q = np.sqrt((2*np.sin(theta)*np.sin(theta)*np.cos(phi)*np.cos(phi) + 3*np.sin(theta)*np.sin(theta)*np.sin(phi)*np.sin(phi))*(2*np.sin(phi)*np.sin(phi)\n",
    "        *np.cos(theta)*np.cos(theta) + 3*np.cos(theta)*np.cos(theta)*np.cos(phi)*np.cos(phi) + np.sin(theta)*np.sin(theta)) - np.sin(theta)*np.sin(theta)*np.sin(phi)*np.sin(phi)*np.cos(theta)*np.cos(theta)*np.cos(phi)*np.cos(phi))\n",
    "        if (gamma <= Q):\n",
    "            ax1.scatter(np.sqrt(3) * np.cos(phi) * np.sin(theta), np.sqrt(2) * np.sin(phi) * np.sin(theta), np.cos(theta), c='b', marker='o')\n",
    "            ax2.scatter(np.sqrt(3) * np.cos(phi) * np.sin(theta), np.sqrt(2) * np.sin(phi) * np.sin(theta), 0, c='b', marker='o')\n",
    "    ax1.set_xlabel('X Label')\n",
    "    ax1.set_ylabel('Y Label')\n",
    "    ax1.set_zlabel('Z Label')\n",
    "    ax2.set_xlabel('X Label')\n",
    "    ax2.set_ylabel('Y Label')\n",
    "    ax2.set_zlabel('Z Label')\n",
    "    ax2.view_init(elev=110)\n",
    "    \n",
    "    plt.show()\n",
    "    \n",
    "    "
   ]
  },
  {
   "cell_type": "code",
   "execution_count": 13,
   "metadata": {
    "collapsed": false
   },
   "outputs": [],
   "source": [
    "def surface():\n",
    "    fig1 = plt.figure()\n",
    "    ax1 = fig1.add_subplot(111, projection='3d')\n",
    "    for i in range(15000):\n",
    "        theta = np.random.uniform(0, np.pi)\n",
    "        phi = np.random.uniform(0, 2*np.pi)\n",
    "        r = np.sqrt((2*np.sin(theta)*np.sin(theta)*np.cos(phi)*np.cos(phi) + 3*np.sin(theta)*np.sin(theta)*np.sin(phi)*np.sin(phi))*(2*np.sin(phi)*np.sin(phi)\n",
    "        *np.cos(theta)*np.cos(theta) + 3*np.cos(theta)*np.cos(theta)*np.cos(phi)*np.cos(phi) + np.sin(theta)*np.sin(theta)) - np.sin(theta)*np.sin(theta)*np.sin(phi)*np.sin(phi)*np.cos(theta)*np.cos(theta)*np.cos(phi)*np.cos(phi))\n",
    "        x = r*np.sin(theta)*np.cos(phi)\n",
    "        y = r*np.sin(theta)*np.sin(phi)\n",
    "        z = r*np.cos(theta)\n",
    "        ax1.scatter(x, y, z, c='b', marker='o')\n",
    "    ax1.set_xlabel('X Label')\n",
    "    ax1.set_ylabel('Y Label')\n",
    "    ax1.set_zlabel('Z Label')\n",
    "    plt.show()"
   ]
  },
  {
   "cell_type": "code",
   "execution_count": 14,
   "metadata": {
    "collapsed": false
   },
   "outputs": [],
   "source": [
    "surface()"
   ]
  }
 ],
 "metadata": {
  "kernelspec": {
   "display_name": "Python 2",
   "language": "python",
   "name": "python2"
  },
  "language_info": {
   "codemirror_mode": {
    "name": "ipython",
    "version": 2
   },
   "file_extension": ".py",
   "mimetype": "text/x-python",
   "name": "python",
   "nbconvert_exporter": "python",
   "pygments_lexer": "ipython2",
   "version": "2.7.13"
  }
 },
 "nbformat": 4,
 "nbformat_minor": 0
}
